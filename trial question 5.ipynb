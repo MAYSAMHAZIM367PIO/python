{
 "cells": [
  {
   "cell_type": "code",
   "execution_count": 1,
   "id": "3ebc2186",
   "metadata": {},
   "outputs": [
    {
     "name": "stdout",
     "output_type": "stream",
     "text": [
      "[('item1', '12.20'), ('item2', '15.10'), ('item3', '24.5')]\n"
     ]
    }
   ],
   "source": [
    "x= [('item1', '12.20'), ('item2', '15.10'), ('item3', '24.5')]\n",
    "for j in range(len(x)-1):\n",
    "    for i in range(len(x)-1):\n",
    "        if float(x[i][-1])>float(x[i+1][-1]):\n",
    "            x[i],x[i+1]=x[i+1],x[i]\n",
    "print(x)"
   ]
  },
  {
   "cell_type": "code",
   "execution_count": null,
   "id": "9e0771f6",
   "metadata": {},
   "outputs": [],
   "source": []
  }
 ],
 "metadata": {
  "kernelspec": {
   "display_name": "Python 3 (ipykernel)",
   "language": "python",
   "name": "python3"
  },
  "language_info": {
   "codemirror_mode": {
    "name": "ipython",
    "version": 3
   },
   "file_extension": ".py",
   "mimetype": "text/x-python",
   "name": "python",
   "nbconvert_exporter": "python",
   "pygments_lexer": "ipython3",
   "version": "3.10.9"
  }
 },
 "nbformat": 4,
 "nbformat_minor": 5
}
