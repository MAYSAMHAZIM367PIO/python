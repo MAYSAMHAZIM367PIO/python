{
 "cells": [
  {
   "cell_type": "code",
   "execution_count": 1,
   "id": "1e2e7301",
   "metadata": {},
   "outputs": [
    {
     "name": "stdout",
     "output_type": "stream",
     "text": [
      "enter no. of students2\n",
      "enter no. of subjects3\n",
      "number of students: 1\n",
      "enter grade: 1\n",
      "50\n",
      "enter grade: 2\n",
      "80\n",
      "enter grade: 3\n",
      "70\n",
      "number of students: 2\n",
      "enter grade: 1\n",
      "60\n",
      "enter grade: 2\n",
      "40\n",
      "enter grade: 3\n",
      "90\n",
      "[['50' '80' '70' '60' '40' '90']\n",
      " ['16.666666666666664' '26.666666666666668' '23.333333333333332' '20.0'\n",
      "  '13.333333333333334' '30.0']\n",
      " ['F' 'F' 'F' 'F' 'F' 'F']]\n"
     ]
    }
   ],
   "source": [
    "import numpy as np\n",
    "\n",
    "stud=int(input(\"enter no. of students\"))\n",
    "sub=int(input(\"enter no. of subjects\"))\n",
    "save=[]\n",
    "total=[]\n",
    "for i in range(1,stud+1):\n",
    "    print(\"number of students:\",i)\n",
    "    for j in range(1,sub+1):\n",
    "        print(\"enter grade:\",j)\n",
    "        y=int(input())\n",
    "        save.append(y)\n",
    "        total.append(sum(save))\n",
    "        save=[]\n",
    "        \n",
    "per=[]\n",
    "for i in total:\n",
    "    per.append((i/(sub*100))*100)\n",
    "    \n",
    "grad=[]\n",
    "for i in per:\n",
    "    if i >=90:\n",
    "        grad.append(\"A+\")\n",
    "    elif i>=80:\n",
    "        grad.append(\"A\")\n",
    "    elif i>=70:\n",
    "        grad.append(\"B+\")\n",
    "    elif i>=60:\n",
    "        grad.append(\"B\")\n",
    "    elif i>=50:\n",
    "        gard.append(\"C\")\n",
    "    else:\n",
    "        grad.append(\"F\")\n",
    "\n",
    "u=np.array([total,per,grad])\n",
    "\n",
    "print(u)    "
   ]
  },
  {
   "cell_type": "code",
   "execution_count": null,
   "id": "4fd90a14",
   "metadata": {},
   "outputs": [],
   "source": [
    "\n"
   ]
  },
  {
   "cell_type": "code",
   "execution_count": null,
   "id": "f8f814d1",
   "metadata": {},
   "outputs": [],
   "source": []
  }
 ],
 "metadata": {
  "kernelspec": {
   "display_name": "Python 3 (ipykernel)",
   "language": "python",
   "name": "python3"
  },
  "language_info": {
   "codemirror_mode": {
    "name": "ipython",
    "version": 3
   },
   "file_extension": ".py",
   "mimetype": "text/x-python",
   "name": "python",
   "nbconvert_exporter": "python",
   "pygments_lexer": "ipython3",
   "version": "3.10.9"
  }
 },
 "nbformat": 4,
 "nbformat_minor": 5
}
