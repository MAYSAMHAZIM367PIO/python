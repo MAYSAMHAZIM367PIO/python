{
 "cells": [
  {
   "cell_type": "code",
   "execution_count": 19,
   "id": "9f852913",
   "metadata": {},
   "outputs": [],
   "source": [
    "class Point3D():\n",
    "    def _init_(self,x,y,z):\n",
    "        self.x=x\n",
    "        self.y=y\n",
    "        self.z=z\n",
    "        \n",
    "    def my_point(self):\n",
    "        return x,y,z\n",
    "     \n",
    "        x=Point3D(1,2,3)\n",
    "        x.mypoint()"
   ]
  },
  {
   "cell_type": "code",
   "execution_count": 34,
   "id": "7d2c3c6c",
   "metadata": {},
   "outputs": [],
   "source": [
    "class rectangle:\n",
    "    def _init_(self,length,width):\n",
    "        self.length=length\n",
    "        self.width=width\n",
    "        \n",
    "        def perimeter(self):\n",
    "            return 2*(length+width)\n",
    "        \n",
    "            def area(self):\n",
    "                return length*width\n",
    "            \n",
    "        x=rectangle(5,9)\n",
    "        \n",
    "        x.perimeter()"
   ]
  },
  {
   "cell_type": "code",
   "execution_count": 52,
   "id": "5969c2f1",
   "metadata": {},
   "outputs": [
    {
     "ename": "SyntaxError",
     "evalue": "invalid syntax (110966827.py, line 18)",
     "output_type": "error",
     "traceback": [
      "\u001b[1;36m  Cell \u001b[1;32mIn[52], line 18\u001b[1;36m\u001b[0m\n\u001b[1;33m    else:\u001b[0m\n\u001b[1;37m    ^\u001b[0m\n\u001b[1;31mSyntaxError\u001b[0m\u001b[1;31m:\u001b[0m invalid syntax\n"
     ]
    }
   ],
   "source": [
    "class circle:\n",
    "    def _init_(self,radius,centerx,centery):\n",
    "        self.radius=radius\n",
    "        self.centerx=centerx\n",
    "        self.centery=centery\n",
    "        \n",
    "        def perimeter(self):\n",
    "            return 2*pi*radius \n",
    "        \n",
    "        def area(self):\n",
    "            return pi*(radius**2)\n",
    "        \n",
    "        class test(circle):\n",
    "            def _init_(self,pointx,pointy):\n",
    "                t=float(input(\"enter your coordinates\".self))\n",
    "                if ((pointx-centerx)**2 +(pointy-centery)**2)<=radius**2:\n",
    "                    print(\"belongs to circle\")\n",
    "                    else:\n",
    "                        print(\"dosent belong to circle\")\n",
    "            x=circle(4,2,3)\n",
    "            x.perimeter()\n",
    "            x.area()\n",
    "            "
   ]
  },
  {
   "cell_type": "code",
   "execution_count": 28,
   "id": "1172ed91",
   "metadata": {},
   "outputs": [],
   "source": [
    "class Bank:\n",
    "    def _init_(self,balance=0):\n",
    "        self.balance=balance\n",
    "        \n",
    "        def deposit(self,amount):\n",
    "                self.balance +=amount\n",
    "                \n",
    "                def withdraw(self,amount):\n",
    "                    self.balance -=amount"
   ]
  },
  {
   "cell_type": "code",
   "execution_count": null,
   "id": "61311495",
   "metadata": {},
   "outputs": [],
   "source": []
  }
 ],
 "metadata": {
  "kernelspec": {
   "display_name": "Python 3 (ipykernel)",
   "language": "python",
   "name": "python3"
  },
  "language_info": {
   "codemirror_mode": {
    "name": "ipython",
    "version": 3
   },
   "file_extension": ".py",
   "mimetype": "text/x-python",
   "name": "python",
   "nbconvert_exporter": "python",
   "pygments_lexer": "ipython3",
   "version": "3.10.9"
  }
 },
 "nbformat": 4,
 "nbformat_minor": 5
}
