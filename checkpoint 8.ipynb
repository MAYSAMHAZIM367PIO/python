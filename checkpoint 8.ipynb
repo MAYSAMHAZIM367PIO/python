{
 "cells": [
  {
   "cell_type": "code",
   "execution_count": 1,
   "id": "9be45668",
   "metadata": {},
   "outputs": [
    {
     "name": "stdout",
     "output_type": "stream",
     "text": [
      "enter N value: 2\n",
      " first 2 lines of a text file:\n",
      "What is Python language?                                                \n"
     ]
    }
   ],
   "source": [
    "f=open(\"C:/Users/LENOVO/Desktop/python.txt\",'r')\n",
    "N=int(input(\"enter N value: \"))\n",
    "lines=f.readlines()\n",
    "print(\" first\",N,\"lines of a text file:\")\n",
    "for textline in (lines[:N-1]): #transverse to retrieve first N lines\n",
    "    print(textline, end='') #printing line by line\n",
    "f.close()"
   ]
  },
  {
   "cell_type": "code",
   "execution_count": 2,
   "id": "eb582c3f",
   "metadata": {},
   "outputs": [
    {
     "name": "stdout",
     "output_type": "stream",
     "text": [
      "enter N value: 2\n",
      "last 2 lines of a text file:\n",
      "Python is a widely used high-level, general-purpose, interpreted, dynamic programming language.Its design philosophy emphasizes code readability, and its syntax allows programmers to express concepts in fewer lines of code than possible in \n",
      "languages such as C++ or Java. \n",
      "Python supports multiple programming paradigms, including object-oriented, imperative and functional programming or procedural styles. It features a dynamic type system and automatic memory management and has a large and comprehensive standard library.The best way we learn anything is by practice and exercise questions. We  have started this section for those (beginner to intermediate) who are familiar with Python."
     ]
    }
   ],
   "source": [
    "f=open(\"C:/Users/LENOVO/Desktop/python.txt\",'r')\n",
    "N=int(input(\"enter N value: \"))\n",
    "lines=f.readlines()\n",
    "print(\"last\",N,\"lines of a text file:\")\n",
    "for textline in (lines[N-1:]): #transverse to retrieve first N lines\n",
    "    print(textline, end='') #printing line by line\n",
    "f.close()"
   ]
  },
  {
   "cell_type": "code",
   "execution_count": 4,
   "id": "7fc9518a",
   "metadata": {},
   "outputs": [
    {
     "name": "stdout",
     "output_type": "stream",
     "text": [
      "the amount of words 100\n"
     ]
    }
   ],
   "source": [
    "f=open(\"C:/Users/LENOVO/Desktop/python.txt\",'r')\n",
    "e=f.read()\n",
    "d=e.split()\n",
    "print(\"the amount of words\",len(d))"
   ]
  },
  {
   "cell_type": "code",
   "execution_count": null,
   "id": "90b9d394",
   "metadata": {},
   "outputs": [],
   "source": []
  },
  {
   "cell_type": "code",
   "execution_count": null,
   "id": "8450c49e",
   "metadata": {},
   "outputs": [],
   "source": []
  },
  {
   "cell_type": "code",
   "execution_count": null,
   "id": "4df67c41",
   "metadata": {},
   "outputs": [],
   "source": []
  }
 ],
 "metadata": {
  "kernelspec": {
   "display_name": "Python 3 (ipykernel)",
   "language": "python",
   "name": "python3"
  },
  "language_info": {
   "codemirror_mode": {
    "name": "ipython",
    "version": 3
   },
   "file_extension": ".py",
   "mimetype": "text/x-python",
   "name": "python",
   "nbconvert_exporter": "python",
   "pygments_lexer": "ipython3",
   "version": "3.10.9"
  }
 },
 "nbformat": 4,
 "nbformat_minor": 5
}
