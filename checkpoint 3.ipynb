{
 "cells": [
  {
   "cell_type": "code",
   "execution_count": 14,
   "id": "fee6f3b2",
   "metadata": {},
   "outputs": [
    {
     "name": "stdout",
     "output_type": "stream",
     "text": [
      "enter num4\n",
      "enter second num0\n",
      "enter operator/\n",
      "not defined\n"
     ]
    }
   ],
   "source": [
    "def tt():\n",
    "    num1=int(input(\"enter num\"))\n",
    "    num2=int(input(\"enter second num\"))\n",
    "    operator=input(\"enter operator\")\n",
    "\n",
    "    if operator==\"+\":\n",
    "        return(num1+num2)\n",
    "    elif operator==\"-\":\n",
    "        return(num1-num2)\n",
    "    elif operator==\"/\":\n",
    "        if num2==0:\n",
    "            print(\"not defined\")\n",
    "    elif operator==\"*\":\n",
    "        return(num1*num2)\n",
    "    else:\n",
    "        print(\"error\")\n",
    "    \n",
    "tt()"
   ]
  },
  {
   "cell_type": "code",
   "execution_count": null,
   "id": "d5357bfc",
   "metadata": {},
   "outputs": [],
   "source": []
  }
 ],
 "metadata": {
  "kernelspec": {
   "display_name": "Python 3 (ipykernel)",
   "language": "python",
   "name": "python3"
  },
  "language_info": {
   "codemirror_mode": {
    "name": "ipython",
    "version": 3
   },
   "file_extension": ".py",
   "mimetype": "text/x-python",
   "name": "python",
   "nbconvert_exporter": "python",
   "pygments_lexer": "ipython3",
   "version": "3.10.9"
  }
 },
 "nbformat": 4,
 "nbformat_minor": 5
}
