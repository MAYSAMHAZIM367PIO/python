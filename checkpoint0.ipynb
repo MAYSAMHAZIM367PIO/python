{
  "nbformat": 4,
  "nbformat_minor": 0,
  "metadata": {
    "colab": {
      "provenance": []
    },
    "kernelspec": {
      "name": "python3",
      "display_name": "Python 3"
    },
    "language_info": {
      "name": "python"
    }
  },
  "cells": [
    {
      "cell_type": "code",
      "execution_count": 1,
      "metadata": {
        "colab": {
          "base_uri": "https://localhost:8080/"
        },
        "id": "vRnCbVyKrIa_",
        "outputId": "0d018151-75ca-485c-e80c-e87f7d5794c5"
      },
      "outputs": [
        {
          "output_type": "stream",
          "name": "stdout",
          "text": [
            "welcome to Python world! lets start coding\n"
          ]
        }
      ],
      "source": [
        "print(\"welcome to Python world! lets start coding\")"
      ]
    }
  ]
}