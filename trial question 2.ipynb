{
 "cells": [
  {
   "cell_type": "code",
   "execution_count": 4,
   "id": "d11f82f2",
   "metadata": {},
   "outputs": [
    {
     "name": "stdout",
     "output_type": "stream",
     "text": [
      "[(1, 2), (4, 4), (2, 3), (2, 1), (2, 5)]\n",
      "[(1, 2), (2, 3), (2, 1), (4, 4), (2, 5)]\n",
      "[(1, 2), (2, 1), (2, 3), (4, 4), (2, 5)]\n",
      "[(2, 1), (1, 2), (2, 3), (4, 4), (2, 5)]\n"
     ]
    }
   ],
   "source": [
    "x=[(2,5),(1,2),(4,4),(2,3),(2,1)]\n",
    "for j in range(len(x)-1):\n",
    "    for i in range(len(x)-1):\n",
    "        if x[i][-1]>x[i+1][-1]:\n",
    "            x[i],x[i+1]=x[i+1],x[i]\n",
    "    print(x)"
   ]
  },
  {
   "cell_type": "code",
   "execution_count": null,
   "id": "69c0fc46",
   "metadata": {},
   "outputs": [],
   "source": []
  }
 ],
 "metadata": {
  "kernelspec": {
   "display_name": "Python 3 (ipykernel)",
   "language": "python",
   "name": "python3"
  },
  "language_info": {
   "codemirror_mode": {
    "name": "ipython",
    "version": 3
   },
   "file_extension": ".py",
   "mimetype": "text/x-python",
   "name": "python",
   "nbconvert_exporter": "python",
   "pygments_lexer": "ipython3",
   "version": "3.10.9"
  }
 },
 "nbformat": 4,
 "nbformat_minor": 5
}
