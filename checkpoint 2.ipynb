{
 "cells": [
  {
   "cell_type": "code",
   "execution_count": 1,
   "id": "9917bd7a",
   "metadata": {},
   "outputs": [
    {
     "name": "stdout",
     "output_type": "stream",
     "text": [
      "36\n"
     ]
    }
   ],
   "source": [
    "x=[2,3,6]\n",
    "\n",
    "result=1\n",
    "for i in x:\n",
    "    result *=i\n",
    "    \n",
    "print(result)"
   ]
  },
  {
   "cell_type": "code",
   "execution_count": 2,
   "id": "6026d335",
   "metadata": {},
   "outputs": [
    {
     "name": "stdout",
     "output_type": "stream",
     "text": [
      "[(1, 2), (4, 4), (2, 3), (2, 1), (2, 5)]\n",
      "[(1, 2), (2, 3), (2, 1), (4, 4), (2, 5)]\n",
      "[(1, 2), (2, 1), (2, 3), (4, 4), (2, 5)]\n",
      "[(2, 1), (1, 2), (2, 3), (4, 4), (2, 5)]\n"
     ]
    }
   ],
   "source": [
    "x=[(2,5),(1,2),(4,4),(2,3),(2,1)]\n",
    "for j in range(len(x)-1):\n",
    "    for i in range(len(x)-1):\n",
    "        if x[i][-1]>x[i+1][-1]:\n",
    "            x[i],x[i+1]=x[i+1],x[i]\n",
    "    print(x)"
   ]
  },
  {
   "cell_type": "code",
   "execution_count": 3,
   "id": "06f4dd6b",
   "metadata": {},
   "outputs": [
    {
     "data": {
      "text/plain": [
       "{'a': 400, 'b': 400, 'c': 300, 'd': 400}"
      ]
     },
     "execution_count": 3,
     "metadata": {},
     "output_type": "execute_result"
    }
   ],
   "source": [
    "d1={'a':100, 'b':200, 'c':300}\n",
    "\n",
    "d2={'a':300, 'b':200, 'd':400}\n",
    "\n",
    "d3=dict(d1)\n",
    "\n",
    "d3.update(d2)\n",
    "\n",
    "for i,j in d1.items():\n",
    "    \n",
    "    for k,h in d2.items():\n",
    "        if i==k:\n",
    "            d3[i]=j+h\n",
    "d3"
   ]
  },
  {
   "cell_type": "code",
   "execution_count": 4,
   "id": "e1045656",
   "metadata": {},
   "outputs": [
    {
     "name": "stdout",
     "output_type": "stream",
     "text": [
      "n8\n",
      "{1: 1, 2: 4, 3: 9, 4: 16, 5: 25, 6: 36, 7: 49}\n"
     ]
    }
   ],
   "source": [
    "n=int(input(\"n\"))\n",
    "my_dict={}\n",
    "for i in range(1,n):\n",
    "    my_dict[i]=i*i\n",
    "    \n",
    "print(my_dict)"
   ]
  },
  {
   "cell_type": "code",
   "execution_count": 2,
   "id": "1e603d20",
   "metadata": {},
   "outputs": [
    {
     "name": "stdout",
     "output_type": "stream",
     "text": [
      "[('item1', '12.20'), ('item2', '15.10'), ('item3', '24.5')]\n"
     ]
    }
   ],
   "source": [
    "x=[('item1', '12.20'), ('item2', '15.10'), ('item3', '24.5')]\n",
    "for j in range(len(x)-1):\n",
    "    for i in range(len(x)-1):\n",
    "        if float(x[i][-1])>float(x[i+1][-1]):\n",
    "            x[i],x[i+1]=x[i+1],x[i]\n",
    "print(x)"
   ]
  },
  {
   "cell_type": "code",
   "execution_count": 1,
   "id": "3a34f886",
   "metadata": {},
   "outputs": [
    {
     "name": "stdout",
     "output_type": "stream",
     "text": [
      "{0, 1, 2, 3, 4}\n"
     ]
    }
   ],
   "source": [
    "s=set()\n",
    "\n",
    "for i in range(5):\n",
    "    s.add(i)\n",
    "print(s)"
   ]
  },
  {
   "cell_type": "code",
   "execution_count": null,
   "id": "7f818dcd",
   "metadata": {},
   "outputs": [],
   "source": []
  }
 ],
 "metadata": {
  "kernelspec": {
   "display_name": "Python 3 (ipykernel)",
   "language": "python",
   "name": "python3"
  },
  "language_info": {
   "codemirror_mode": {
    "name": "ipython",
    "version": 3
   },
   "file_extension": ".py",
   "mimetype": "text/x-python",
   "name": "python",
   "nbconvert_exporter": "python",
   "pygments_lexer": "ipython3",
   "version": "3.10.9"
  }
 },
 "nbformat": 4,
 "nbformat_minor": 5
}
