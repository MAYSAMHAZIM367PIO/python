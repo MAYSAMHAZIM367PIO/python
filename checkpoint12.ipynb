{
 "cells": [
  {
   "cell_type": "code",
   "execution_count": 6,
   "id": "0327edc8",
   "metadata": {},
   "outputs": [
    {
     "name": "stdout",
     "output_type": "stream",
     "text": [
      "enter your guess:50\n",
      "your answer is too high\n",
      "guess again:20\n",
      "your answer is too high\n",
      "guess again:10\n",
      "your guess is too low\n",
      "guess again:11\n",
      "your guess is too low\n",
      "guess again:15\n",
      "your guess is too low\n",
      "guess again:17\n",
      "your guess is too low\n",
      "guess again:18\n",
      "congratulations you won\n"
     ]
    }
   ],
   "source": [
    "import random\n",
    "n=random.randint(1,100)\n",
    "x=int(input(\"enter your guess:\"))\n",
    "while n!=x:\n",
    "    if x>n:\n",
    "        print(\"your answer is too high\")\n",
    "        x=int(input(\"guess again:\"))\n",
    "    elif x<n:\n",
    "        print (\"your guess is too low\")\n",
    "        x=int(input(\"guess again:\"))\n",
    "        \n",
    "        \n",
    "print(\"congratulations you won\")"
   ]
  },
  {
   "cell_type": "code",
   "execution_count": null,
   "id": "b78b2cb0",
   "metadata": {},
   "outputs": [],
   "source": []
  },
  {
   "cell_type": "code",
   "execution_count": null,
   "id": "e7ff7fe2",
   "metadata": {},
   "outputs": [],
   "source": []
  }
 ],
 "metadata": {
  "kernelspec": {
   "display_name": "Python 3 (ipykernel)",
   "language": "python",
   "name": "python3"
  },
  "language_info": {
   "codemirror_mode": {
    "name": "ipython",
    "version": 3
   },
   "file_extension": ".py",
   "mimetype": "text/x-python",
   "name": "python",
   "nbconvert_exporter": "python",
   "pygments_lexer": "ipython3",
   "version": "3.10.9"
  }
 },
 "nbformat": 4,
 "nbformat_minor": 5
}
