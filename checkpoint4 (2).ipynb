{
 "cells": [
  {
   "cell_type": "code",
   "execution_count": 59,
   "id": "9f852913",
   "metadata": {},
   "outputs": [
    {
     "data": {
      "text/plain": [
       "(1, 2, 3)"
      ]
     },
     "execution_count": 59,
     "metadata": {},
     "output_type": "execute_result"
    }
   ],
   "source": [
    "class Point3D():\n",
    "    def __init__(self,x,y,z):\n",
    "        self.x=x\n",
    "        self.y=y\n",
    "        self.z=z\n",
    "    def return_values(self):\n",
    "        return (self.x,self.y,self.z)\n",
    "    \n",
    "x=Point3D(1,2,3)\n",
    "x.return_values()"
   ]
  },
  {
   "cell_type": "code",
   "execution_count": 57,
   "id": "7d2c3c6c",
   "metadata": {},
   "outputs": [
    {
     "data": {
      "text/plain": [
       "28"
      ]
     },
     "execution_count": 57,
     "metadata": {},
     "output_type": "execute_result"
    }
   ],
   "source": [
    "class rectangle:\n",
    "    def __init__(self,length,width):\n",
    "        self.length=length\n",
    "        self.width=width\n",
    "        \n",
    "    def perimeter(self):\n",
    "        return 2*(self.length+self.width)\n",
    "        \n",
    "    def area(self):\n",
    "        return self.length*self.width\n",
    "  \n",
    "\n",
    "x=rectangle(5,9)\n",
    "\n",
    "x.perimeter()"
   ]
  },
  {
   "cell_type": "code",
   "execution_count": 68,
   "id": "5969c2f1",
   "metadata": {},
   "outputs": [
    {
     "name": "stdout",
     "output_type": "stream",
     "text": [
      "25.132741228718345\n",
      "50.26548245743669\n",
      "belongs to circle\n"
     ]
    }
   ],
   "source": [
    "from math import pi\n",
    "class circle:\n",
    "    def __init__(self,radius,centerx,centery):\n",
    "        self.radius=radius\n",
    "        self.centerx=centerx\n",
    "        self.centery=centery\n",
    "        \n",
    "    def perimeter(self):\n",
    "        return 2*pi*self.radius \n",
    "\n",
    "    def area(self):\n",
    "        return pi*(self.radius**2)\n",
    "\n",
    "    def is_inside(self,pointx,pointy):\n",
    "        if ((pointx-self.centerx)**2 +(pointy-self.centery)**2)<=self.radius**2:\n",
    "            return (\"belongs to circle\")\n",
    "        else:\n",
    "            return (\"dosent belong to circle\")\n",
    "x=circle(4,2,3)\n",
    "print(x.perimeter())\n",
    "print(x.area())\n",
    "print(x.is_inside(1,2))\n",
    "            "
   ]
  },
  {
   "cell_type": "code",
   "execution_count": 73,
   "id": "1172ed91",
   "metadata": {},
   "outputs": [
    {
     "data": {
      "text/plain": [
       "800"
      ]
     },
     "execution_count": 73,
     "metadata": {},
     "output_type": "execute_result"
    }
   ],
   "source": [
    "class Bank:\n",
    "    def __init__(self,balance=0):\n",
    "        self.balance=balance\n",
    "        \n",
    "    def deposit(self,amount):\n",
    "            self.balance +=amount\n",
    "\n",
    "    def withdraw(self,amount):\n",
    "        self.balance -=amount\n",
    "    def check_balance(self):\n",
    "        return self.balance\n",
    "        \n",
    "x = Bank()\n",
    "x.deposit(1000)\n",
    "x.withdraw(200)\n",
    "x.check_balance()"
   ]
  },
  {
   "cell_type": "code",
   "execution_count": null,
   "id": "61311495",
   "metadata": {},
   "outputs": [],
   "source": []
  }
 ],
 "metadata": {
  "kernelspec": {
   "display_name": "Python 3 (ipykernel)",
   "language": "python",
   "name": "python3"
  },
  "language_info": {
   "codemirror_mode": {
    "name": "ipython",
    "version": 3
   },
   "file_extension": ".py",
   "mimetype": "text/x-python",
   "name": "python",
   "nbconvert_exporter": "python",
   "pygments_lexer": "ipython3",
   "version": "3.10.9"
  }
 },
 "nbformat": 4,
 "nbformat_minor": 5
}
